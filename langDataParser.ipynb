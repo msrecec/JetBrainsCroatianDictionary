{
 "cells": [
  {
   "cell_type": "code",
   "execution_count": 1,
   "metadata": {},
   "outputs": [],
   "source": [
    "import pandas as pd"
   ]
  },
  {
   "cell_type": "code",
   "execution_count": 3,
   "metadata": {},
   "outputs": [],
   "source": [
    "df = pd.read_csv('croatian.txt', sep=' ', header=None)"
   ]
  },
  {
   "cell_type": "code",
   "execution_count": 31,
   "metadata": {},
   "outputs": [],
   "source": [
    "df[0].apply(lambda x: x.split('/')[0]).to_csv('cro.txt', index=False)"
   ]
  },
  {
   "cell_type": "code",
   "execution_count": null,
   "metadata": {},
   "outputs": [],
   "source": [
    "df[0].apply(lambda x: x.split('/')[0]).to_csv('cro.dic', index=False)"
   ]
  },
  {
   "cell_type": "code",
   "execution_count": 49,
   "metadata": {},
   "outputs": [],
   "source": [
    "df = pd.read_csv('croatian.txt', sep=' ', header=None)"
   ]
  },
  {
   "cell_type": "code",
   "execution_count": 50,
   "metadata": {},
   "outputs": [
    {
     "data": {
      "text/html": [
       "<div>\n",
       "<style scoped>\n",
       "    .dataframe tbody tr th:only-of-type {\n",
       "        vertical-align: middle;\n",
       "    }\n",
       "\n",
       "    .dataframe tbody tr th {\n",
       "        vertical-align: top;\n",
       "    }\n",
       "\n",
       "    .dataframe thead th {\n",
       "        text-align: right;\n",
       "    }\n",
       "</style>\n",
       "<table border=\"1\" class=\"dataframe\">\n",
       "  <thead>\n",
       "    <tr style=\"text-align: right;\">\n",
       "      <th></th>\n",
       "      <th>0</th>\n",
       "    </tr>\n",
       "  </thead>\n",
       "  <tbody>\n",
       "    <tr>\n",
       "      <th>0</th>\n",
       "      <td>abažurom</td>\n",
       "    </tr>\n",
       "    <tr>\n",
       "      <th>1</th>\n",
       "      <td>abdicirah</td>\n",
       "    </tr>\n",
       "    <tr>\n",
       "      <th>2</th>\n",
       "      <td>abdicirahu</td>\n",
       "    </tr>\n",
       "    <tr>\n",
       "      <th>3</th>\n",
       "      <td>abdicirala</td>\n",
       "    </tr>\n",
       "    <tr>\n",
       "      <th>4</th>\n",
       "      <td>abdicirali</td>\n",
       "    </tr>\n",
       "    <tr>\n",
       "      <th>...</th>\n",
       "      <td>...</td>\n",
       "    </tr>\n",
       "    <tr>\n",
       "      <th>377187</th>\n",
       "      <td>žvalite</td>\n",
       "    </tr>\n",
       "    <tr>\n",
       "      <th>377188</th>\n",
       "      <td>žvaliti</td>\n",
       "    </tr>\n",
       "    <tr>\n",
       "      <th>377189</th>\n",
       "      <td>žveglaj</td>\n",
       "    </tr>\n",
       "    <tr>\n",
       "      <th>377190</th>\n",
       "      <td>žvrgolje</td>\n",
       "    </tr>\n",
       "    <tr>\n",
       "      <th>377191</th>\n",
       "      <td>žvrgolji</td>\n",
       "    </tr>\n",
       "  </tbody>\n",
       "</table>\n",
       "<p>377192 rows × 1 columns</p>\n",
       "</div>"
      ],
      "text/plain": [
       "                 0\n",
       "0         abažurom\n",
       "1        abdicirah\n",
       "2       abdicirahu\n",
       "3       abdicirala\n",
       "4       abdicirali\n",
       "...            ...\n",
       "377187     žvalite\n",
       "377188     žvaliti\n",
       "377189     žveglaj\n",
       "377190    žvrgolje\n",
       "377191    žvrgolji\n",
       "\n",
       "[377192 rows x 1 columns]"
      ]
     },
     "execution_count": 50,
     "metadata": {},
     "output_type": "execute_result"
    }
   ],
   "source": [
    "df"
   ]
  },
  {
   "cell_type": "code",
   "execution_count": 51,
   "metadata": {},
   "outputs": [],
   "source": [
    "df2 = df[df[0].apply(lambda x: x.split('/')[0]).str.contains('č|ć|ž|š|đ')]"
   ]
  },
  {
   "cell_type": "code",
   "execution_count": 52,
   "metadata": {},
   "outputs": [
    {
     "data": {
      "text/html": [
       "<div>\n",
       "<style scoped>\n",
       "    .dataframe tbody tr th:only-of-type {\n",
       "        vertical-align: middle;\n",
       "    }\n",
       "\n",
       "    .dataframe tbody tr th {\n",
       "        vertical-align: top;\n",
       "    }\n",
       "\n",
       "    .dataframe thead th {\n",
       "        text-align: right;\n",
       "    }\n",
       "</style>\n",
       "<table border=\"1\" class=\"dataframe\">\n",
       "  <thead>\n",
       "    <tr style=\"text-align: right;\">\n",
       "      <th></th>\n",
       "      <th>0</th>\n",
       "    </tr>\n",
       "  </thead>\n",
       "  <tbody>\n",
       "    <tr>\n",
       "      <th>0</th>\n",
       "      <td>abažurom</td>\n",
       "    </tr>\n",
       "    <tr>\n",
       "      <th>11</th>\n",
       "      <td>abdiciraš</td>\n",
       "    </tr>\n",
       "    <tr>\n",
       "      <th>12</th>\n",
       "      <td>abdiciraše</td>\n",
       "    </tr>\n",
       "    <tr>\n",
       "      <th>45</th>\n",
       "      <td>abecediraš</td>\n",
       "    </tr>\n",
       "    <tr>\n",
       "      <th>46</th>\n",
       "      <td>abecediraše</td>\n",
       "    </tr>\n",
       "    <tr>\n",
       "      <th>...</th>\n",
       "      <td>...</td>\n",
       "    </tr>\n",
       "    <tr>\n",
       "      <th>377187</th>\n",
       "      <td>žvalite</td>\n",
       "    </tr>\n",
       "    <tr>\n",
       "      <th>377188</th>\n",
       "      <td>žvaliti</td>\n",
       "    </tr>\n",
       "    <tr>\n",
       "      <th>377189</th>\n",
       "      <td>žveglaj</td>\n",
       "    </tr>\n",
       "    <tr>\n",
       "      <th>377190</th>\n",
       "      <td>žvrgolje</td>\n",
       "    </tr>\n",
       "    <tr>\n",
       "      <th>377191</th>\n",
       "      <td>žvrgolji</td>\n",
       "    </tr>\n",
       "  </tbody>\n",
       "</table>\n",
       "<p>115979 rows × 1 columns</p>\n",
       "</div>"
      ],
      "text/plain": [
       "                  0\n",
       "0          abažurom\n",
       "11        abdiciraš\n",
       "12       abdiciraše\n",
       "45       abecediraš\n",
       "46      abecediraše\n",
       "...             ...\n",
       "377187      žvalite\n",
       "377188      žvaliti\n",
       "377189      žveglaj\n",
       "377190     žvrgolje\n",
       "377191     žvrgolji\n",
       "\n",
       "[115979 rows x 1 columns]"
      ]
     },
     "execution_count": 52,
     "metadata": {},
     "output_type": "execute_result"
    }
   ],
   "source": [
    "df2"
   ]
  },
  {
   "cell_type": "code",
   "execution_count": 53,
   "metadata": {},
   "outputs": [],
   "source": [
    "s3 = df2[0].apply(lambda x: x.split('/')[0]).str.replace('ž','z').str.replace('č','c').str.replace('ć','c').str.replace('š','s').str.replace('đ','d').str.replace('Ž','Z').str.replace('Č','C').str.replace('Ć','C').str.replace('Š','S').str.replace('Đ','D')"
   ]
  },
  {
   "cell_type": "code",
   "execution_count": 54,
   "metadata": {},
   "outputs": [],
   "source": [
    "s3.to_csv('cro2.dic', index=False)"
   ]
  },
  {
   "cell_type": "code",
   "execution_count": null,
   "metadata": {},
   "outputs": [],
   "source": [
    "# df[0].apply(lambda x: x.split('/')[0]).to_csv('cro.txt', index=False)"
   ]
  },
  {
   "cell_type": "code",
   "execution_count": null,
   "metadata": {},
   "outputs": [],
   "source": [
    "# df[0].apply(lambda x: x.split('/')[0]).to_csv('cro.dic', index=False)"
   ]
  },
  {
   "cell_type": "code",
   "execution_count": 55,
   "metadata": {},
   "outputs": [],
   "source": [
    "df3 = pd.read_csv('cro2.dic', sep=' ', header=None)"
   ]
  },
  {
   "cell_type": "code",
   "execution_count": 56,
   "metadata": {},
   "outputs": [],
   "source": [
    "df4 = pd.read_csv('croatian.dic', sep=' ', header=None)"
   ]
  },
  {
   "cell_type": "code",
   "execution_count": 57,
   "metadata": {},
   "outputs": [
    {
     "name": "stdout",
     "output_type": "stream",
     "text": [
      "<class 'pandas.core.frame.DataFrame'>\n",
      "RangeIndex: 115980 entries, 0 to 115979\n",
      "Data columns (total 1 columns):\n",
      " #   Column  Non-Null Count   Dtype \n",
      "---  ------  --------------   ----- \n",
      " 0   0       115980 non-null  object\n",
      "dtypes: object(1)\n",
      "memory usage: 906.2+ KB\n"
     ]
    }
   ],
   "source": [
    "df3.info()"
   ]
  },
  {
   "cell_type": "code",
   "execution_count": 58,
   "metadata": {},
   "outputs": [
    {
     "data": {
      "text/html": [
       "<div>\n",
       "<style scoped>\n",
       "    .dataframe tbody tr th:only-of-type {\n",
       "        vertical-align: middle;\n",
       "    }\n",
       "\n",
       "    .dataframe tbody tr th {\n",
       "        vertical-align: top;\n",
       "    }\n",
       "\n",
       "    .dataframe thead th {\n",
       "        text-align: right;\n",
       "    }\n",
       "</style>\n",
       "<table border=\"1\" class=\"dataframe\">\n",
       "  <thead>\n",
       "    <tr style=\"text-align: right;\">\n",
       "      <th></th>\n",
       "      <th>0</th>\n",
       "    </tr>\n",
       "  </thead>\n",
       "  <tbody>\n",
       "    <tr>\n",
       "      <th>0</th>\n",
       "      <td>0</td>\n",
       "    </tr>\n",
       "    <tr>\n",
       "      <th>1</th>\n",
       "      <td>abazurom</td>\n",
       "    </tr>\n",
       "    <tr>\n",
       "      <th>2</th>\n",
       "      <td>abdiciras</td>\n",
       "    </tr>\n",
       "    <tr>\n",
       "      <th>3</th>\n",
       "      <td>abdicirase</td>\n",
       "    </tr>\n",
       "    <tr>\n",
       "      <th>4</th>\n",
       "      <td>abecediras</td>\n",
       "    </tr>\n",
       "    <tr>\n",
       "      <th>...</th>\n",
       "      <td>...</td>\n",
       "    </tr>\n",
       "    <tr>\n",
       "      <th>115975</th>\n",
       "      <td>zvalite</td>\n",
       "    </tr>\n",
       "    <tr>\n",
       "      <th>115976</th>\n",
       "      <td>zvaliti</td>\n",
       "    </tr>\n",
       "    <tr>\n",
       "      <th>115977</th>\n",
       "      <td>zveglaj</td>\n",
       "    </tr>\n",
       "    <tr>\n",
       "      <th>115978</th>\n",
       "      <td>zvrgolje</td>\n",
       "    </tr>\n",
       "    <tr>\n",
       "      <th>115979</th>\n",
       "      <td>zvrgolji</td>\n",
       "    </tr>\n",
       "  </tbody>\n",
       "</table>\n",
       "<p>115980 rows × 1 columns</p>\n",
       "</div>"
      ],
      "text/plain": [
       "                 0\n",
       "0                0\n",
       "1         abazurom\n",
       "2        abdiciras\n",
       "3       abdicirase\n",
       "4       abecediras\n",
       "...            ...\n",
       "115975     zvalite\n",
       "115976     zvaliti\n",
       "115977     zveglaj\n",
       "115978    zvrgolje\n",
       "115979    zvrgolji\n",
       "\n",
       "[115980 rows x 1 columns]"
      ]
     },
     "execution_count": 58,
     "metadata": {},
     "output_type": "execute_result"
    }
   ],
   "source": [
    "df3"
   ]
  },
  {
   "cell_type": "code",
   "execution_count": 59,
   "metadata": {},
   "outputs": [
    {
     "name": "stdout",
     "output_type": "stream",
     "text": [
      "<class 'pandas.core.frame.DataFrame'>\n",
      "RangeIndex: 377192 entries, 0 to 377191\n",
      "Data columns (total 1 columns):\n",
      " #   Column  Non-Null Count   Dtype \n",
      "---  ------  --------------   ----- \n",
      " 0   0       377192 non-null  object\n",
      "dtypes: object(1)\n",
      "memory usage: 2.9+ MB\n"
     ]
    }
   ],
   "source": [
    "df4.info()"
   ]
  },
  {
   "cell_type": "code",
   "execution_count": 60,
   "metadata": {},
   "outputs": [
    {
     "data": {
      "text/html": [
       "<div>\n",
       "<style scoped>\n",
       "    .dataframe tbody tr th:only-of-type {\n",
       "        vertical-align: middle;\n",
       "    }\n",
       "\n",
       "    .dataframe tbody tr th {\n",
       "        vertical-align: top;\n",
       "    }\n",
       "\n",
       "    .dataframe thead th {\n",
       "        text-align: right;\n",
       "    }\n",
       "</style>\n",
       "<table border=\"1\" class=\"dataframe\">\n",
       "  <thead>\n",
       "    <tr style=\"text-align: right;\">\n",
       "      <th></th>\n",
       "      <th>0</th>\n",
       "    </tr>\n",
       "  </thead>\n",
       "  <tbody>\n",
       "    <tr>\n",
       "      <th>0</th>\n",
       "      <td>abažurom</td>\n",
       "    </tr>\n",
       "    <tr>\n",
       "      <th>1</th>\n",
       "      <td>abdicirah</td>\n",
       "    </tr>\n",
       "    <tr>\n",
       "      <th>2</th>\n",
       "      <td>abdicirahu</td>\n",
       "    </tr>\n",
       "    <tr>\n",
       "      <th>3</th>\n",
       "      <td>abdicirala</td>\n",
       "    </tr>\n",
       "    <tr>\n",
       "      <th>4</th>\n",
       "      <td>abdicirali</td>\n",
       "    </tr>\n",
       "    <tr>\n",
       "      <th>...</th>\n",
       "      <td>...</td>\n",
       "    </tr>\n",
       "    <tr>\n",
       "      <th>377187</th>\n",
       "      <td>žvalite</td>\n",
       "    </tr>\n",
       "    <tr>\n",
       "      <th>377188</th>\n",
       "      <td>žvaliti</td>\n",
       "    </tr>\n",
       "    <tr>\n",
       "      <th>377189</th>\n",
       "      <td>žveglaj</td>\n",
       "    </tr>\n",
       "    <tr>\n",
       "      <th>377190</th>\n",
       "      <td>žvrgolje</td>\n",
       "    </tr>\n",
       "    <tr>\n",
       "      <th>377191</th>\n",
       "      <td>žvrgolji</td>\n",
       "    </tr>\n",
       "  </tbody>\n",
       "</table>\n",
       "<p>377192 rows × 1 columns</p>\n",
       "</div>"
      ],
      "text/plain": [
       "                 0\n",
       "0         abažurom\n",
       "1        abdicirah\n",
       "2       abdicirahu\n",
       "3       abdicirala\n",
       "4       abdicirali\n",
       "...            ...\n",
       "377187     žvalite\n",
       "377188     žvaliti\n",
       "377189     žveglaj\n",
       "377190    žvrgolje\n",
       "377191    žvrgolji\n",
       "\n",
       "[377192 rows x 1 columns]"
      ]
     },
     "execution_count": 60,
     "metadata": {},
     "output_type": "execute_result"
    }
   ],
   "source": [
    "df4"
   ]
  },
  {
   "cell_type": "code",
   "execution_count": 61,
   "metadata": {},
   "outputs": [],
   "source": [
    "df5 = pd.concat([df3,df4],ignore_index=True)"
   ]
  },
  {
   "cell_type": "code",
   "execution_count": 62,
   "metadata": {},
   "outputs": [
    {
     "data": {
      "text/html": [
       "<div>\n",
       "<style scoped>\n",
       "    .dataframe tbody tr th:only-of-type {\n",
       "        vertical-align: middle;\n",
       "    }\n",
       "\n",
       "    .dataframe tbody tr th {\n",
       "        vertical-align: top;\n",
       "    }\n",
       "\n",
       "    .dataframe thead th {\n",
       "        text-align: right;\n",
       "    }\n",
       "</style>\n",
       "<table border=\"1\" class=\"dataframe\">\n",
       "  <thead>\n",
       "    <tr style=\"text-align: right;\">\n",
       "      <th></th>\n",
       "      <th>0</th>\n",
       "    </tr>\n",
       "  </thead>\n",
       "  <tbody>\n",
       "    <tr>\n",
       "      <th>0</th>\n",
       "      <td>0</td>\n",
       "    </tr>\n",
       "    <tr>\n",
       "      <th>1</th>\n",
       "      <td>abazurom</td>\n",
       "    </tr>\n",
       "    <tr>\n",
       "      <th>2</th>\n",
       "      <td>abdiciras</td>\n",
       "    </tr>\n",
       "    <tr>\n",
       "      <th>3</th>\n",
       "      <td>abdicirase</td>\n",
       "    </tr>\n",
       "    <tr>\n",
       "      <th>4</th>\n",
       "      <td>abecediras</td>\n",
       "    </tr>\n",
       "    <tr>\n",
       "      <th>...</th>\n",
       "      <td>...</td>\n",
       "    </tr>\n",
       "    <tr>\n",
       "      <th>493167</th>\n",
       "      <td>žvalite</td>\n",
       "    </tr>\n",
       "    <tr>\n",
       "      <th>493168</th>\n",
       "      <td>žvaliti</td>\n",
       "    </tr>\n",
       "    <tr>\n",
       "      <th>493169</th>\n",
       "      <td>žveglaj</td>\n",
       "    </tr>\n",
       "    <tr>\n",
       "      <th>493170</th>\n",
       "      <td>žvrgolje</td>\n",
       "    </tr>\n",
       "    <tr>\n",
       "      <th>493171</th>\n",
       "      <td>žvrgolji</td>\n",
       "    </tr>\n",
       "  </tbody>\n",
       "</table>\n",
       "<p>493172 rows × 1 columns</p>\n",
       "</div>"
      ],
      "text/plain": [
       "                 0\n",
       "0                0\n",
       "1         abazurom\n",
       "2        abdiciras\n",
       "3       abdicirase\n",
       "4       abecediras\n",
       "...            ...\n",
       "493167     žvalite\n",
       "493168     žvaliti\n",
       "493169     žveglaj\n",
       "493170    žvrgolje\n",
       "493171    žvrgolji\n",
       "\n",
       "[493172 rows x 1 columns]"
      ]
     },
     "execution_count": 62,
     "metadata": {},
     "output_type": "execute_result"
    }
   ],
   "source": [
    "df5"
   ]
  },
  {
   "cell_type": "code",
   "execution_count": 63,
   "metadata": {},
   "outputs": [
    {
     "name": "stdout",
     "output_type": "stream",
     "text": [
      "<class 'pandas.core.frame.DataFrame'>\n",
      "RangeIndex: 493172 entries, 0 to 493171\n",
      "Data columns (total 1 columns):\n",
      " #   Column  Non-Null Count   Dtype \n",
      "---  ------  --------------   ----- \n",
      " 0   0       493172 non-null  object\n",
      "dtypes: object(1)\n",
      "memory usage: 3.8+ MB\n"
     ]
    }
   ],
   "source": [
    "df5.info()"
   ]
  },
  {
   "cell_type": "code",
   "execution_count": 64,
   "metadata": {},
   "outputs": [],
   "source": [
    "df5.to_csv('cro3.dic', index=False)"
   ]
  },
  {
   "cell_type": "code",
   "execution_count": 4,
   "metadata": {},
   "outputs": [],
   "source": [
    "df6 = pd.read_csv('croatian.dic', sep=' ', header=None)"
   ]
  },
  {
   "cell_type": "code",
   "execution_count": 10,
   "metadata": {},
   "outputs": [],
   "source": [
    "df7 = df6.sort_values(by=[0])"
   ]
  },
  {
   "cell_type": "code",
   "execution_count": 16,
   "metadata": {},
   "outputs": [
    {
     "data": {
      "text/html": [
       "<div>\n",
       "<style scoped>\n",
       "    .dataframe tbody tr th:only-of-type {\n",
       "        vertical-align: middle;\n",
       "    }\n",
       "\n",
       "    .dataframe tbody tr th {\n",
       "        vertical-align: top;\n",
       "    }\n",
       "\n",
       "    .dataframe thead th {\n",
       "        text-align: right;\n",
       "    }\n",
       "</style>\n",
       "<table border=\"1\" class=\"dataframe\">\n",
       "  <thead>\n",
       "    <tr style=\"text-align: right;\">\n",
       "      <th></th>\n",
       "      <th>0</th>\n",
       "    </tr>\n",
       "  </thead>\n",
       "  <tbody>\n",
       "    <tr>\n",
       "      <th>0</th>\n",
       "      <td>0</td>\n",
       "    </tr>\n",
       "    <tr>\n",
       "      <th>1</th>\n",
       "      <td>0</td>\n",
       "    </tr>\n",
       "    <tr>\n",
       "      <th>119531</th>\n",
       "      <td>ANSA</td>\n",
       "    </tr>\n",
       "    <tr>\n",
       "      <th>116149</th>\n",
       "      <td>Adame</td>\n",
       "    </tr>\n",
       "    <tr>\n",
       "      <th>116151</th>\n",
       "      <td>Adamom</td>\n",
       "    </tr>\n",
       "    <tr>\n",
       "      <th>...</th>\n",
       "      <td>...</td>\n",
       "    </tr>\n",
       "    <tr>\n",
       "      <th>493135</th>\n",
       "      <td>žvaču</td>\n",
       "    </tr>\n",
       "    <tr>\n",
       "      <th>493136</th>\n",
       "      <td>žvačući</td>\n",
       "    </tr>\n",
       "    <tr>\n",
       "      <th>493170</th>\n",
       "      <td>žveglaj</td>\n",
       "    </tr>\n",
       "    <tr>\n",
       "      <th>493171</th>\n",
       "      <td>žvrgolje</td>\n",
       "    </tr>\n",
       "    <tr>\n",
       "      <th>493172</th>\n",
       "      <td>žvrgolji</td>\n",
       "    </tr>\n",
       "  </tbody>\n",
       "</table>\n",
       "<p>493173 rows × 1 columns</p>\n",
       "</div>"
      ],
      "text/plain": [
       "               0\n",
       "0              0\n",
       "1              0\n",
       "119531      ANSA\n",
       "116149     Adame\n",
       "116151    Adamom\n",
       "...          ...\n",
       "493135     žvaču\n",
       "493136   žvačući\n",
       "493170   žveglaj\n",
       "493171  žvrgolje\n",
       "493172  žvrgolji\n",
       "\n",
       "[493173 rows x 1 columns]"
      ]
     },
     "execution_count": 16,
     "metadata": {},
     "output_type": "execute_result"
    }
   ],
   "source": [
    "df7"
   ]
  },
  {
   "cell_type": "code",
   "execution_count": 14,
   "metadata": {},
   "outputs": [],
   "source": [
    "df8 = df7.drop(0).drop(1)"
   ]
  },
  {
   "cell_type": "code",
   "execution_count": 15,
   "metadata": {},
   "outputs": [
    {
     "data": {
      "text/html": [
       "<div>\n",
       "<style scoped>\n",
       "    .dataframe tbody tr th:only-of-type {\n",
       "        vertical-align: middle;\n",
       "    }\n",
       "\n",
       "    .dataframe tbody tr th {\n",
       "        vertical-align: top;\n",
       "    }\n",
       "\n",
       "    .dataframe thead th {\n",
       "        text-align: right;\n",
       "    }\n",
       "</style>\n",
       "<table border=\"1\" class=\"dataframe\">\n",
       "  <thead>\n",
       "    <tr style=\"text-align: right;\">\n",
       "      <th></th>\n",
       "      <th>0</th>\n",
       "    </tr>\n",
       "  </thead>\n",
       "  <tbody>\n",
       "    <tr>\n",
       "      <th>119531</th>\n",
       "      <td>ANSA</td>\n",
       "    </tr>\n",
       "    <tr>\n",
       "      <th>116149</th>\n",
       "      <td>Adame</td>\n",
       "    </tr>\n",
       "    <tr>\n",
       "      <th>116151</th>\n",
       "      <td>Adamom</td>\n",
       "    </tr>\n",
       "    <tr>\n",
       "      <th>116153</th>\n",
       "      <td>Adamova</td>\n",
       "    </tr>\n",
       "    <tr>\n",
       "      <th>116155</th>\n",
       "      <td>Adamove</td>\n",
       "    </tr>\n",
       "    <tr>\n",
       "      <th>...</th>\n",
       "      <td>...</td>\n",
       "    </tr>\n",
       "    <tr>\n",
       "      <th>493135</th>\n",
       "      <td>žvaču</td>\n",
       "    </tr>\n",
       "    <tr>\n",
       "      <th>493136</th>\n",
       "      <td>žvačući</td>\n",
       "    </tr>\n",
       "    <tr>\n",
       "      <th>493170</th>\n",
       "      <td>žveglaj</td>\n",
       "    </tr>\n",
       "    <tr>\n",
       "      <th>493171</th>\n",
       "      <td>žvrgolje</td>\n",
       "    </tr>\n",
       "    <tr>\n",
       "      <th>493172</th>\n",
       "      <td>žvrgolji</td>\n",
       "    </tr>\n",
       "  </tbody>\n",
       "</table>\n",
       "<p>493171 rows × 1 columns</p>\n",
       "</div>"
      ],
      "text/plain": [
       "               0\n",
       "119531      ANSA\n",
       "116149     Adame\n",
       "116151    Adamom\n",
       "116153   Adamova\n",
       "116155   Adamove\n",
       "...          ...\n",
       "493135     žvaču\n",
       "493136   žvačući\n",
       "493170   žveglaj\n",
       "493171  žvrgolje\n",
       "493172  žvrgolji\n",
       "\n",
       "[493171 rows x 1 columns]"
      ]
     },
     "execution_count": 15,
     "metadata": {},
     "output_type": "execute_result"
    }
   ],
   "source": [
    "df8"
   ]
  },
  {
   "cell_type": "code",
   "execution_count": 26,
   "metadata": {},
   "outputs": [],
   "source": [
    "df9 = df8.drop(119531)"
   ]
  },
  {
   "cell_type": "code",
   "execution_count": 27,
   "metadata": {},
   "outputs": [
    {
     "data": {
      "text/html": [
       "<div>\n",
       "<style scoped>\n",
       "    .dataframe tbody tr th:only-of-type {\n",
       "        vertical-align: middle;\n",
       "    }\n",
       "\n",
       "    .dataframe tbody tr th {\n",
       "        vertical-align: top;\n",
       "    }\n",
       "\n",
       "    .dataframe thead th {\n",
       "        text-align: right;\n",
       "    }\n",
       "</style>\n",
       "<table border=\"1\" class=\"dataframe\">\n",
       "  <thead>\n",
       "    <tr style=\"text-align: right;\">\n",
       "      <th></th>\n",
       "      <th>0</th>\n",
       "    </tr>\n",
       "  </thead>\n",
       "  <tbody>\n",
       "    <tr>\n",
       "      <th>116149</th>\n",
       "      <td>Adame</td>\n",
       "    </tr>\n",
       "    <tr>\n",
       "      <th>116151</th>\n",
       "      <td>Adamom</td>\n",
       "    </tr>\n",
       "    <tr>\n",
       "      <th>116153</th>\n",
       "      <td>Adamova</td>\n",
       "    </tr>\n",
       "    <tr>\n",
       "      <th>116155</th>\n",
       "      <td>Adamove</td>\n",
       "    </tr>\n",
       "    <tr>\n",
       "      <th>116157</th>\n",
       "      <td>Adamovu</td>\n",
       "    </tr>\n",
       "    <tr>\n",
       "      <th>...</th>\n",
       "      <td>...</td>\n",
       "    </tr>\n",
       "    <tr>\n",
       "      <th>493135</th>\n",
       "      <td>žvaču</td>\n",
       "    </tr>\n",
       "    <tr>\n",
       "      <th>493136</th>\n",
       "      <td>žvačući</td>\n",
       "    </tr>\n",
       "    <tr>\n",
       "      <th>493170</th>\n",
       "      <td>žveglaj</td>\n",
       "    </tr>\n",
       "    <tr>\n",
       "      <th>493171</th>\n",
       "      <td>žvrgolje</td>\n",
       "    </tr>\n",
       "    <tr>\n",
       "      <th>493172</th>\n",
       "      <td>žvrgolji</td>\n",
       "    </tr>\n",
       "  </tbody>\n",
       "</table>\n",
       "<p>493170 rows × 1 columns</p>\n",
       "</div>"
      ],
      "text/plain": [
       "               0\n",
       "116149     Adame\n",
       "116151    Adamom\n",
       "116153   Adamova\n",
       "116155   Adamove\n",
       "116157   Adamovu\n",
       "...          ...\n",
       "493135     žvaču\n",
       "493136   žvačući\n",
       "493170   žveglaj\n",
       "493171  žvrgolje\n",
       "493172  žvrgolji\n",
       "\n",
       "[493170 rows x 1 columns]"
      ]
     },
     "execution_count": 27,
     "metadata": {},
     "output_type": "execute_result"
    }
   ],
   "source": [
    "df9"
   ]
  },
  {
   "cell_type": "code",
   "execution_count": 28,
   "metadata": {},
   "outputs": [],
   "source": [
    "import numpy as np"
   ]
  },
  {
   "cell_type": "code",
   "execution_count": 33,
   "metadata": {},
   "outputs": [],
   "source": [
    "df10 = df9.set_index(np.arange(0,493170))"
   ]
  },
  {
   "cell_type": "code",
   "execution_count": 35,
   "metadata": {},
   "outputs": [
    {
     "data": {
      "text/html": [
       "<div>\n",
       "<style scoped>\n",
       "    .dataframe tbody tr th:only-of-type {\n",
       "        vertical-align: middle;\n",
       "    }\n",
       "\n",
       "    .dataframe tbody tr th {\n",
       "        vertical-align: top;\n",
       "    }\n",
       "\n",
       "    .dataframe thead th {\n",
       "        text-align: right;\n",
       "    }\n",
       "</style>\n",
       "<table border=\"1\" class=\"dataframe\">\n",
       "  <thead>\n",
       "    <tr style=\"text-align: right;\">\n",
       "      <th></th>\n",
       "      <th>0</th>\n",
       "    </tr>\n",
       "  </thead>\n",
       "  <tbody>\n",
       "    <tr>\n",
       "      <th>0</th>\n",
       "      <td>Adame</td>\n",
       "    </tr>\n",
       "    <tr>\n",
       "      <th>1</th>\n",
       "      <td>Adamom</td>\n",
       "    </tr>\n",
       "    <tr>\n",
       "      <th>2</th>\n",
       "      <td>Adamova</td>\n",
       "    </tr>\n",
       "    <tr>\n",
       "      <th>3</th>\n",
       "      <td>Adamove</td>\n",
       "    </tr>\n",
       "    <tr>\n",
       "      <th>4</th>\n",
       "      <td>Adamovu</td>\n",
       "    </tr>\n",
       "    <tr>\n",
       "      <th>...</th>\n",
       "      <td>...</td>\n",
       "    </tr>\n",
       "    <tr>\n",
       "      <th>493165</th>\n",
       "      <td>žvaču</td>\n",
       "    </tr>\n",
       "    <tr>\n",
       "      <th>493166</th>\n",
       "      <td>žvačući</td>\n",
       "    </tr>\n",
       "    <tr>\n",
       "      <th>493167</th>\n",
       "      <td>žveglaj</td>\n",
       "    </tr>\n",
       "    <tr>\n",
       "      <th>493168</th>\n",
       "      <td>žvrgolje</td>\n",
       "    </tr>\n",
       "    <tr>\n",
       "      <th>493169</th>\n",
       "      <td>žvrgolji</td>\n",
       "    </tr>\n",
       "  </tbody>\n",
       "</table>\n",
       "<p>493170 rows × 1 columns</p>\n",
       "</div>"
      ],
      "text/plain": [
       "               0\n",
       "0          Adame\n",
       "1         Adamom\n",
       "2        Adamova\n",
       "3        Adamove\n",
       "4        Adamovu\n",
       "...          ...\n",
       "493165     žvaču\n",
       "493166   žvačući\n",
       "493167   žveglaj\n",
       "493168  žvrgolje\n",
       "493169  žvrgolji\n",
       "\n",
       "[493170 rows x 1 columns]"
      ]
     },
     "execution_count": 35,
     "metadata": {},
     "output_type": "execute_result"
    }
   ],
   "source": [
    "df10"
   ]
  },
  {
   "cell_type": "code",
   "execution_count": 36,
   "metadata": {},
   "outputs": [],
   "source": [
    "df10.to_csv('croatian.dic', index=False)"
   ]
  },
  {
   "cell_type": "code",
   "execution_count": null,
   "metadata": {},
   "outputs": [],
   "source": []
  }
 ],
 "metadata": {
  "kernelspec": {
   "display_name": "Python 3",
   "language": "python",
   "name": "python3"
  },
  "language_info": {
   "codemirror_mode": {
    "name": "ipython",
    "version": 3
   },
   "file_extension": ".py",
   "mimetype": "text/x-python",
   "name": "python",
   "nbconvert_exporter": "python",
   "pygments_lexer": "ipython3",
   "version": "3.8.3"
  }
 },
 "nbformat": 4,
 "nbformat_minor": 4
}
